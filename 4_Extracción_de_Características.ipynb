{
  "cells": [
    {
      "cell_type": "markdown",
      "metadata": {
        "colab_type": "text",
        "id": "view-in-github"
      },
      "source": [
        "<a href=\"https://colab.research.google.com/github/freddy-7/TI3002C/blob/main/5_Extracci%C3%B3n_de_Caracter%C3%ADsticas.ipynb\" target=\"_parent\"><img src=\"https://colab.research.google.com/assets/colab-badge.svg\" alt=\"Open In Colab\"/></a>"
      ]
    },
    {
      "cell_type": "code",
      "execution_count": 2,
      "metadata": {
        "id": "KBvqPLFySzaI"
      },
      "outputs": [],
      "source": [
        "#Importamos las librerias pandas, numpy y matplotlib respectivamente\n",
        "import pandas as pd\n",
        "import numpy as np\n",
        "import matplotlib.pyplot as plt"
      ]
    },
    {
      "cell_type": "code",
      "execution_count": null,
      "metadata": {
        "id": "EbINkdpcS03f"
      },
      "outputs": [],
      "source": [
        "#Cargar archivo csv desde equipo\n",
        "from google.colab import files\n",
        "files.upload()"
      ]
    },
    {
      "cell_type": "code",
      "execution_count": null,
      "metadata": {},
      "outputs": [],
      "source": [
        "%pip install openpyxl"
      ]
    },
    {
      "cell_type": "code",
      "execution_count": 3,
      "metadata": {
        "id": "jXyYdUiSTJAe"
      },
      "outputs": [],
      "source": [
        "#Carga desde un archivo .xlsx sin indice\n",
        "Micro_Retailer= pd.read_excel('microretailer_mit_lift_lab.xlsx') "
      ]
    },
    {
      "cell_type": "code",
      "execution_count": 4,
      "metadata": {
        "colab": {
          "base_uri": "https://localhost:8080/"
        },
        "id": "pqHhJArjTVP3",
        "outputId": "a7ee30c0-12f6-4a9f-8b58-c29e433154dc"
      },
      "outputs": [
        {
          "name": "stdout",
          "output_type": "stream",
          "text": [
            "<class 'pandas.core.frame.DataFrame'>\n",
            "RangeIndex: 171 entries, 0 to 170\n",
            "Columns: 106 entries, _record_id to 235_email\n",
            "dtypes: float64(23), int64(2), object(81)\n",
            "memory usage: 141.7+ KB\n"
          ]
        }
      ],
      "source": [
        "#Verificamos información del DataFrame\n",
        "Micro_Retailer.info()"
      ]
    },
    {
      "cell_type": "code",
      "execution_count": 6,
      "metadata": {
        "colab": {
          "base_uri": "https://localhost:8080/",
          "height": 525
        },
        "id": "vyjGnKI4Tqvl",
        "outputId": "d7c23770-df23-4570-d9cb-6440bfd985ec"
      },
      "outputs": [
        {
          "data": {
            "text/html": [
              "<div>\n",
              "<style scoped>\n",
              "    .dataframe tbody tr th:only-of-type {\n",
              "        vertical-align: middle;\n",
              "    }\n",
              "\n",
              "    .dataframe tbody tr th {\n",
              "        vertical-align: top;\n",
              "    }\n",
              "\n",
              "    .dataframe thead th {\n",
              "        text-align: right;\n",
              "    }\n",
              "</style>\n",
              "<table border=\"1\" class=\"dataframe\">\n",
              "  <thead>\n",
              "    <tr style=\"text-align: right;\">\n",
              "      <th></th>\n",
              "      <th>_record_id</th>\n",
              "      <th>_title</th>\n",
              "      <th>_server_updated_at</th>\n",
              "      <th>_updated_by</th>\n",
              "      <th>_geometry</th>\n",
              "      <th>_latitude</th>\n",
              "      <th>_longitude</th>\n",
              "      <th>228_store_name</th>\n",
              "      <th>229_store_picture</th>\n",
              "      <th>232_type_of_store</th>\n",
              "      <th>...</th>\n",
              "      <th>261_technology_organization</th>\n",
              "      <th>262_technology_serve_customers</th>\n",
              "      <th>263_technology_secure_sales</th>\n",
              "      <th>264_technology_budget</th>\n",
              "      <th>267_technology_investment_customer_preferences</th>\n",
              "      <th>234_willingness_participate_workshop</th>\n",
              "      <th>318_shopkeeper_name</th>\n",
              "      <th>319_shopkeepers_last_name</th>\n",
              "      <th>236_whatsapp</th>\n",
              "      <th>235_email</th>\n",
              "    </tr>\n",
              "  </thead>\n",
              "  <tbody>\n",
              "    <tr>\n",
              "      <th>0</th>\n",
              "      <td>dff2998e-af74-4de6-8efd-488aca24e67b</td>\n",
              "      <td>November 12, 2022</td>\n",
              "      <td>2022-11-12 22:15:10 UTC</td>\n",
              "      <td>Salomon Abdala Perez</td>\n",
              "      <td>SRID=4326;POINT(-98.233822273 19.0535362706)</td>\n",
              "      <td>19.053536</td>\n",
              "      <td>-98.233822</td>\n",
              "      <td>Eugene’s Compostura</td>\n",
              "      <td>1 Photo</td>\n",
              "      <td>Tailor</td>\n",
              "      <td>...</td>\n",
              "      <td>NaN</td>\n",
              "      <td>NaN</td>\n",
              "      <td>NaN</td>\n",
              "      <td>NaN</td>\n",
              "      <td>NaN</td>\n",
              "      <td>no</td>\n",
              "      <td>NaN</td>\n",
              "      <td>NaN</td>\n",
              "      <td>NaN</td>\n",
              "      <td>NaN</td>\n",
              "    </tr>\n",
              "    <tr>\n",
              "      <th>1</th>\n",
              "      <td>c596412f-4fc2-4983-acba-d9565859e42f</td>\n",
              "      <td>November 12, 2022</td>\n",
              "      <td>2022-11-12 22:15:09 UTC</td>\n",
              "      <td>Salomon Abdala Perez</td>\n",
              "      <td>SRID=4326;POINT(-98.2341421351 19.0535610353)</td>\n",
              "      <td>19.053561</td>\n",
              "      <td>-98.234142</td>\n",
              "      <td>Frutas y verduras Angy</td>\n",
              "      <td>1 Photo</td>\n",
              "      <td>Grocery store (aka. nanostore)</td>\n",
              "      <td>...</td>\n",
              "      <td>NaN</td>\n",
              "      <td>NaN</td>\n",
              "      <td>NaN</td>\n",
              "      <td>NaN</td>\n",
              "      <td>NaN</td>\n",
              "      <td>no</td>\n",
              "      <td>NaN</td>\n",
              "      <td>NaN</td>\n",
              "      <td>NaN</td>\n",
              "      <td>NaN</td>\n",
              "    </tr>\n",
              "    <tr>\n",
              "      <th>2</th>\n",
              "      <td>5bb632b3-41b5-4fb6-a817-b564e8b45a48</td>\n",
              "      <td>November 12, 2022</td>\n",
              "      <td>2022-11-12 22:15:09 UTC</td>\n",
              "      <td>Salomon Abdala Perez</td>\n",
              "      <td>SRID=4326;POINT(-98.232299887 19.058654656)</td>\n",
              "      <td>19.058655</td>\n",
              "      <td>-98.232300</td>\n",
              "      <td>Libélula</td>\n",
              "      <td>1 Photo</td>\n",
              "      <td>Grocery store (aka. nanostore)</td>\n",
              "      <td>...</td>\n",
              "      <td>NaN</td>\n",
              "      <td>NaN</td>\n",
              "      <td>NaN</td>\n",
              "      <td>NaN</td>\n",
              "      <td>NaN</td>\n",
              "      <td>no</td>\n",
              "      <td>NaN</td>\n",
              "      <td>NaN</td>\n",
              "      <td>NaN</td>\n",
              "      <td>NaN</td>\n",
              "    </tr>\n",
              "    <tr>\n",
              "      <th>3</th>\n",
              "      <td>6774a0f6-bab4-4a58-bf94-95ad0b7cb438</td>\n",
              "      <td>November 12, 2022</td>\n",
              "      <td>2022-11-12 22:15:09 UTC</td>\n",
              "      <td>Salomon Abdala Perez</td>\n",
              "      <td>SRID=4326;POINT(-98.2331576513 19.0592929035)</td>\n",
              "      <td>19.059293</td>\n",
              "      <td>-98.233158</td>\n",
              "      <td>Quality fix</td>\n",
              "      <td>1 Photo</td>\n",
              "      <td>Grocery store (aka. nanostore)</td>\n",
              "      <td>...</td>\n",
              "      <td>NaN</td>\n",
              "      <td>NaN</td>\n",
              "      <td>NaN</td>\n",
              "      <td>NaN</td>\n",
              "      <td>NaN</td>\n",
              "      <td>no</td>\n",
              "      <td>NaN</td>\n",
              "      <td>NaN</td>\n",
              "      <td>NaN</td>\n",
              "      <td>NaN</td>\n",
              "    </tr>\n",
              "    <tr>\n",
              "      <th>4</th>\n",
              "      <td>6cc637fa-3d54-48c7-9499-6de13d0a26aa</td>\n",
              "      <td>November 12, 2022</td>\n",
              "      <td>2022-11-12 22:15:08 UTC</td>\n",
              "      <td>Salomon Abdala Perez</td>\n",
              "      <td>SRID=4326;POINT(-98.2338639604 19.0595846029)</td>\n",
              "      <td>19.059585</td>\n",
              "      <td>-98.233864</td>\n",
              "      <td>Artesanías Los Pinos</td>\n",
              "      <td>1 Photo</td>\n",
              "      <td>Grocery store (aka. nanostore)</td>\n",
              "      <td>...</td>\n",
              "      <td>NaN</td>\n",
              "      <td>NaN</td>\n",
              "      <td>NaN</td>\n",
              "      <td>NaN</td>\n",
              "      <td>NaN</td>\n",
              "      <td>no</td>\n",
              "      <td>NaN</td>\n",
              "      <td>NaN</td>\n",
              "      <td>NaN</td>\n",
              "      <td>NaN</td>\n",
              "    </tr>\n",
              "  </tbody>\n",
              "</table>\n",
              "<p>5 rows × 106 columns</p>\n",
              "</div>"
            ],
            "text/plain": [
              "                             _record_id             _title  \\\n",
              "0  dff2998e-af74-4de6-8efd-488aca24e67b  November 12, 2022   \n",
              "1  c596412f-4fc2-4983-acba-d9565859e42f  November 12, 2022   \n",
              "2  5bb632b3-41b5-4fb6-a817-b564e8b45a48  November 12, 2022   \n",
              "3  6774a0f6-bab4-4a58-bf94-95ad0b7cb438  November 12, 2022   \n",
              "4  6cc637fa-3d54-48c7-9499-6de13d0a26aa  November 12, 2022   \n",
              "\n",
              "        _server_updated_at           _updated_by  \\\n",
              "0  2022-11-12 22:15:10 UTC  Salomon Abdala Perez   \n",
              "1  2022-11-12 22:15:09 UTC  Salomon Abdala Perez   \n",
              "2  2022-11-12 22:15:09 UTC  Salomon Abdala Perez   \n",
              "3  2022-11-12 22:15:09 UTC  Salomon Abdala Perez   \n",
              "4  2022-11-12 22:15:08 UTC  Salomon Abdala Perez   \n",
              "\n",
              "                                       _geometry  _latitude  _longitude  \\\n",
              "0   SRID=4326;POINT(-98.233822273 19.0535362706)  19.053536  -98.233822   \n",
              "1  SRID=4326;POINT(-98.2341421351 19.0535610353)  19.053561  -98.234142   \n",
              "2    SRID=4326;POINT(-98.232299887 19.058654656)  19.058655  -98.232300   \n",
              "3  SRID=4326;POINT(-98.2331576513 19.0592929035)  19.059293  -98.233158   \n",
              "4  SRID=4326;POINT(-98.2338639604 19.0595846029)  19.059585  -98.233864   \n",
              "\n",
              "           228_store_name 229_store_picture               232_type_of_store  \\\n",
              "0     Eugene’s Compostura           1 Photo                          Tailor   \n",
              "1  Frutas y verduras Angy           1 Photo  Grocery store (aka. nanostore)   \n",
              "2               Libélula            1 Photo  Grocery store (aka. nanostore)   \n",
              "3             Quality fix           1 Photo  Grocery store (aka. nanostore)   \n",
              "4    Artesanías Los Pinos           1 Photo  Grocery store (aka. nanostore)   \n",
              "\n",
              "   ... 261_technology_organization 262_technology_serve_customers  \\\n",
              "0  ...                         NaN                            NaN   \n",
              "1  ...                         NaN                            NaN   \n",
              "2  ...                         NaN                            NaN   \n",
              "3  ...                         NaN                            NaN   \n",
              "4  ...                         NaN                            NaN   \n",
              "\n",
              "  263_technology_secure_sales  264_technology_budget  \\\n",
              "0                         NaN                    NaN   \n",
              "1                         NaN                    NaN   \n",
              "2                         NaN                    NaN   \n",
              "3                         NaN                    NaN   \n",
              "4                         NaN                    NaN   \n",
              "\n",
              "   267_technology_investment_customer_preferences  \\\n",
              "0                                             NaN   \n",
              "1                                             NaN   \n",
              "2                                             NaN   \n",
              "3                                             NaN   \n",
              "4                                             NaN   \n",
              "\n",
              "  234_willingness_participate_workshop  318_shopkeeper_name  \\\n",
              "0                                   no                  NaN   \n",
              "1                                   no                  NaN   \n",
              "2                                   no                  NaN   \n",
              "3                                   no                  NaN   \n",
              "4                                   no                  NaN   \n",
              "\n",
              "  319_shopkeepers_last_name 236_whatsapp 235_email  \n",
              "0                       NaN          NaN       NaN  \n",
              "1                       NaN          NaN       NaN  \n",
              "2                       NaN          NaN       NaN  \n",
              "3                       NaN          NaN       NaN  \n",
              "4                       NaN          NaN       NaN  \n",
              "\n",
              "[5 rows x 106 columns]"
            ]
          },
          "execution_count": 6,
          "metadata": {},
          "output_type": "execute_result"
        }
      ],
      "source": [
        "#Imprimo los primeros 5 registro del dataframe\n",
        "Micro_Retailer.head()"
      ]
    },
    {
      "cell_type": "code",
      "execution_count": 7,
      "metadata": {
        "id": "1Ff43X1qT4KU"
      },
      "outputs": [
        {
          "data": {
            "text/html": [
              "<div>\n",
              "<style scoped>\n",
              "    .dataframe tbody tr th:only-of-type {\n",
              "        vertical-align: middle;\n",
              "    }\n",
              "\n",
              "    .dataframe tbody tr th {\n",
              "        vertical-align: top;\n",
              "    }\n",
              "\n",
              "    .dataframe thead th {\n",
              "        text-align: right;\n",
              "    }\n",
              "</style>\n",
              "<table border=\"1\" class=\"dataframe\">\n",
              "  <thead>\n",
              "    <tr style=\"text-align: right;\">\n",
              "      <th></th>\n",
              "      <th>214_customer_relationship_tools</th>\n",
              "      <th>count</th>\n",
              "    </tr>\n",
              "  </thead>\n",
              "  <tbody>\n",
              "    <tr>\n",
              "      <th>0</th>\n",
              "      <td>Redes sociales</td>\n",
              "      <td>27</td>\n",
              "    </tr>\n",
              "    <tr>\n",
              "      <th>1</th>\n",
              "      <td>Aplicación móvil</td>\n",
              "      <td>21</td>\n",
              "    </tr>\n",
              "    <tr>\n",
              "      <th>2</th>\n",
              "      <td>Ninguna</td>\n",
              "      <td>20</td>\n",
              "    </tr>\n",
              "    <tr>\n",
              "      <th>3</th>\n",
              "      <td>Aplicación móvil,Redes sociales</td>\n",
              "      <td>13</td>\n",
              "    </tr>\n",
              "    <tr>\n",
              "      <th>4</th>\n",
              "      <td>Cuaderno</td>\n",
              "      <td>6</td>\n",
              "    </tr>\n",
              "    <tr>\n",
              "      <th>5</th>\n",
              "      <td>Teléfono</td>\n",
              "      <td>1</td>\n",
              "    </tr>\n",
              "    <tr>\n",
              "      <th>6</th>\n",
              "      <td>Cuaderno,Redes sociales</td>\n",
              "      <td>1</td>\n",
              "    </tr>\n",
              "    <tr>\n",
              "      <th>7</th>\n",
              "      <td>Aplicación móvil,De frente</td>\n",
              "      <td>1</td>\n",
              "    </tr>\n",
              "    <tr>\n",
              "      <th>8</th>\n",
              "      <td>Físico</td>\n",
              "      <td>1</td>\n",
              "    </tr>\n",
              "    <tr>\n",
              "      <th>9</th>\n",
              "      <td>Aplicación móvil,Ninguna</td>\n",
              "      <td>1</td>\n",
              "    </tr>\n",
              "    <tr>\n",
              "      <th>10</th>\n",
              "      <td>publicidades</td>\n",
              "      <td>1</td>\n",
              "    </tr>\n",
              "    <tr>\n",
              "      <th>11</th>\n",
              "      <td>Publicidad</td>\n",
              "      <td>1</td>\n",
              "    </tr>\n",
              "    <tr>\n",
              "      <th>12</th>\n",
              "      <td>Teléfono celular</td>\n",
              "      <td>1</td>\n",
              "    </tr>\n",
              "  </tbody>\n",
              "</table>\n",
              "</div>"
            ],
            "text/plain": [
              "    214_customer_relationship_tools  count\n",
              "0                    Redes sociales     27\n",
              "1                  Aplicación móvil     21\n",
              "2                           Ninguna     20\n",
              "3   Aplicación móvil,Redes sociales     13\n",
              "4                          Cuaderno      6\n",
              "5                          Teléfono      1\n",
              "6           Cuaderno,Redes sociales      1\n",
              "7        Aplicación móvil,De frente      1\n",
              "8                           Físico       1\n",
              "9          Aplicación móvil,Ninguna      1\n",
              "10                    publicidades       1\n",
              "11                       Publicidad      1\n",
              "12                Teléfono celular       1"
            ]
          },
          "execution_count": 7,
          "metadata": {},
          "output_type": "execute_result"
        }
      ],
      "source": [
        "#Obtengo un análisis univariado de las variables categóricas\n",
        "Tabla_freq = Micro_Retailer['214_customer_relationship_tools'].value_counts().reset_index()\n",
        "Tabla_freq"
      ]
    },
    {
      "cell_type": "code",
      "execution_count": null,
      "metadata": {
        "colab": {
          "base_uri": "https://localhost:8080/",
          "height": 206
        },
        "id": "HBrncXHSXKJZ",
        "outputId": "c9459ea8-f0e7-44b0-85bc-d60a424485d5"
      },
      "outputs": [],
      "source": [
        "#Obtengo un filtro de los valores más reelevantes de la variable categórica seleccionada\n",
        "Filtro= Tabla_freq[Tabla_freq['count']>1]\n",
        "Filtro"
      ]
    },
    {
      "cell_type": "code",
      "execution_count": null,
      "metadata": {
        "colab": {
          "base_uri": "https://localhost:8080/",
          "height": 237
        },
        "id": "aK1m_EA9XP3Y",
        "outputId": "bb1ba9e6-0532-4c3a-a11d-aa36b164c1cb"
      },
      "outputs": [],
      "source": [
        "#Ajusto el indice de mi dataframe\n",
        "Filtro_index= Filtro.set_index('214_customer_relationship_tools')\n",
        "Filtro_index"
      ]
    },
    {
      "cell_type": "code",
      "execution_count": 10,
      "metadata": {
        "colab": {
          "base_uri": "https://localhost:8080/",
          "height": 633
        },
        "id": "glFrKFfxXWeg",
        "outputId": "21e6c6f2-8c35-42ac-8915-ffe0559ca107"
      },
      "outputs": [
        {
          "data": {
            "text/plain": [
              "Text(0, 0.5, 'Frecuencia')"
            ]
          },
          "execution_count": 10,
          "metadata": {},
          "output_type": "execute_result"
        },
        {
          "data": {
            "image/png": "[encoded data removed]",
            "text/plain": [
              "<Figure size 1000x400 with 1 Axes>"
            ]
          },
          "metadata": {},
          "output_type": "display_data"
        }
      ],
      "source": [
        "#Realizamos grafico de barras del dataframe filtrado\n",
        "Filtro_index.plot(kind = 'bar', width=0.8, figsize=(10,4), color= \"red\")\n",
        "plt.title('Herramientas de relación con los clientes')\n",
        "plt.xlabel('Tipo de Herramienta')\n",
        "plt.ylabel('Frecuencia')"
      ]
    },
    {
      "cell_type": "code",
      "execution_count": 12,
      "metadata": {
        "colab": {
          "base_uri": "https://localhost:8080/",
          "height": 405
        },
        "id": "WkpKLeOgXhwU",
        "outputId": "685e024b-acc2-4603-b6fd-5b350b361e08"
      },
      "outputs": [
        {
          "data": {
            "text/plain": [
              "<Axes: xlabel='214_customer_relationship_tools'>"
            ]
          },
          "execution_count": 12,
          "metadata": {},
          "output_type": "execute_result"
        },
        {
          "data": {
            "image/png": "[encoded data removed]",
            "text/plain": [
              "<Figure size 1000x400 with 1 Axes>"
            ]
          },
          "metadata": {},
          "output_type": "display_data"
        }
      ],
      "source": [
        "#Realizamos grafico de área del dataframe filtrado\n",
        "Filtro_index.plot(kind='area', figsize=(10,4),alpha = 1)"
      ]
    },
    {
      "cell_type": "code",
      "execution_count": null,
      "metadata": {
        "colab": {
          "base_uri": "https://localhost:8080/",
          "height": 439
        },
        "id": "bcs_yH_TXmqo",
        "outputId": "44c5c3e5-9830-424f-ad58-2903d4854bdc"
      },
      "outputs": [],
      "source": [
        "#Realizamos grafico de pastel del dataframe filtrado\n",
        "Filtro_index[\"count\"].plot(kind='pie', figsize=(10,5), shadow=True, autopct=\"%0.1f %%\")"
      ]
    },
    {
      "cell_type": "markdown",
      "metadata": {},
      "source": [
        "**Determinación de Clases para datos agrupados**\n"
      ]
    },
    {
      "cell_type": "code",
      "execution_count": 16,
      "metadata": {},
      "outputs": [],
      "source": [
        "# Ajustar maximo de filas\n",
        "pd.options.display.max_rows = None"
      ]
    },
    {
      "cell_type": "code",
      "execution_count": null,
      "metadata": {},
      "outputs": [],
      "source": [
        "#Corroboramos valores nulos\n",
        "valores_nulos=Micro_Retailer.isnull().sum()\n",
        "valores_nulos"
      ]
    },
    {
      "cell_type": "code",
      "execution_count": 19,
      "metadata": {},
      "outputs": [
        {
          "name": "stdout",
          "output_type": "stream",
          "text": [
            "<class 'pandas.core.series.Series'>\n",
            "RangeIndex: 171 entries, 0 to 170\n",
            "Series name: _latitude\n",
            "Non-Null Count  Dtype  \n",
            "--------------  -----  \n",
            "171 non-null    float64\n",
            "dtypes: float64(1)\n",
            "memory usage: 1.5 KB\n"
          ]
        }
      ],
      "source": [
        "#Calculamos el numero total de la población \"n\"\n",
        "Micro_Retailer['_latitude']. info()\n",
        "n=171"
      ]
    },
    {
      "cell_type": "code",
      "execution_count": 20,
      "metadata": {},
      "outputs": [
        {
          "data": {
            "text/plain": [
              "[18.9993095, 19.0752733]"
            ]
          },
          "execution_count": 20,
          "metadata": {},
          "output_type": "execute_result"
        }
      ],
      "source": [
        "#Obtenemos el limite superior y el límite inferior de la columna objetivo\n",
        "Max=Micro_Retailer['_latitude'].max()\n",
        "Min=Micro_Retailer['_latitude'].min()\n",
        "Limites= [Min, Max]\n",
        "Limites"
      ]
    },
    {
      "cell_type": "code",
      "execution_count": 21,
      "metadata": {},
      "outputs": [
        {
          "data": {
            "text/plain": [
              "0.07596380000000025"
            ]
          },
          "execution_count": 21,
          "metadata": {},
          "output_type": "execute_result"
        }
      ],
      "source": [
        "#Calculamos el rango R\n",
        "R=Max-Min\n",
        "R"
      ]
    },
    {
      "cell_type": "code",
      "execution_count": 22,
      "metadata": {},
      "outputs": [
        {
          "data": {
            "text/plain": [
              "8.41354708650195"
            ]
          },
          "execution_count": 22,
          "metadata": {},
          "output_type": "execute_result"
        }
      ],
      "source": [
        "#Calculamos el número de Intervalos de Clase \"ni\", aplicando la regla de Sturges\n",
        "ni= 1+3.32*np.log10(n)\n",
        "ni"
      ]
    },
    {
      "cell_type": "code",
      "execution_count": 16,
      "metadata": {},
      "outputs": [
        {
          "data": {
            "text/plain": [
              "0.009028748424296662"
            ]
          },
          "execution_count": 16,
          "metadata": {},
          "output_type": "execute_result"
        }
      ],
      "source": [
        "#Calculamos el Ancho del Intervalo \"i\"\n",
        "i=R/ni\n",
        "i"
      ]
    },
    {
      "cell_type": "markdown",
      "metadata": {},
      "source": [
        "**Creación de Categorias a partir de clases**"
      ]
    },
    {
      "cell_type": "code",
      "execution_count": null,
      "metadata": {},
      "outputs": [],
      "source": [
        "#Categorización de variables\n",
        "#Declaramos 8 intervalos \n",
        "#Ajustamos los limites para que todos los valores sean incluidos en los intervalos\n",
        "#Ampliamos los límites en una unidad sobre los decimales menos significativos\n",
        "#con la intención de incluir los valores que caigan justo en los límites\n",
        "intervalos=np.linspace(18.9993094, 19.0752734, 9)\n",
        "intervalos"
      ]
    },
    {
      "cell_type": "code",
      "execution_count": 24,
      "metadata": {},
      "outputs": [],
      "source": [
        "#Creamos las categorías \n",
        "categorias= [\"Categoría1\", \"Categoría2\",\"Categoría3\", \"Categoría4\",\n",
        "             \"Categoría5\", \"Categoría6\",\"Categoría7\", \"Categoría8\"]"
      ]
    },
    {
      "cell_type": "code",
      "execution_count": null,
      "metadata": {},
      "outputs": [
        {
          "data": {
            "text/plain": [
              "0      Categoría6\n",
              "1      Categoría6\n",
              "2      Categoría7\n",
              "3      Categoría7\n",
              "4      Categoría7\n",
              "5      Categoría7\n",
              "6      Categoría7\n",
              "7      Categoría7\n",
              "8      Categoría7\n",
              "9      Categoría7\n",
              "10     Categoría3\n",
              "11     Categoría3\n",
              "12     Categoría3\n",
              "13     Categoría3\n",
              "14     Categoría3\n",
              "15     Categoría3\n",
              "16     Categoría3\n",
              "17     Categoría3\n",
              "18     Categoría3\n",
              "19     Categoría3\n",
              "20     Categoría5\n",
              "21     Categoría7\n",
              "22     Categoría7\n",
              "23     Categoría7\n",
              "24     Categoría7\n",
              "25     Categoría7\n",
              "26     Categoría7\n",
              "27     Categoría7\n",
              "28     Categoría7\n",
              "29     Categoría7\n",
              "30     Categoría7\n",
              "31     Categoría7\n",
              "32     Categoría7\n",
              "33     Categoría8\n",
              "34     Categoría4\n",
              "35     Categoría2\n",
              "36     Categoría2\n",
              "37     Categoría2\n",
              "38     Categoría2\n",
              "39     Categoría2\n",
              "40     Categoría3\n",
              "41     Categoría3\n",
              "42     Categoría2\n",
              "43     Categoría3\n",
              "44     Categoría5\n",
              "45     Categoría5\n",
              "46     Categoría3\n",
              "47     Categoría2\n",
              "48     Categoría2\n",
              "49     Categoría2\n",
              "50     Categoría2\n",
              "51     Categoría4\n",
              "52     Categoría5\n",
              "53     Categoría5\n",
              "54     Categoría5\n",
              "55     Categoría5\n",
              "56     Categoría5\n",
              "57     Categoría5\n",
              "58     Categoría5\n",
              "59     Categoría5\n",
              "60     Categoría5\n",
              "61     Categoría5\n",
              "62     Categoría5\n",
              "63     Categoría5\n",
              "64     Categoría5\n",
              "65     Categoría5\n",
              "66     Categoría5\n",
              "67     Categoría5\n",
              "68     Categoría5\n",
              "69     Categoría4\n",
              "70     Categoría4\n",
              "71     Categoría3\n",
              "72     Categoría3\n",
              "73     Categoría3\n",
              "74     Categoría2\n",
              "75     Categoría3\n",
              "76     Categoría3\n",
              "77     Categoría3\n",
              "78     Categoría3\n",
              "79     Categoría2\n",
              "80     Categoría3\n",
              "81     Categoría3\n",
              "82     Categoría3\n",
              "83     Categoría8\n",
              "84     Categoría8\n",
              "85     Categoría8\n",
              "86     Categoría8\n",
              "87     Categoría8\n",
              "88     Categoría8\n",
              "89     Categoría8\n",
              "90     Categoría4\n",
              "91     Categoría8\n",
              "92     Categoría4\n",
              "93     Categoría8\n",
              "94     Categoría3\n",
              "95     Categoría8\n",
              "96     Categoría8\n",
              "97     Categoría8\n",
              "98     Categoría8\n",
              "99     Categoría8\n",
              "100    Categoría4\n",
              "101    Categoría4\n",
              "102    Categoría8\n",
              "103    Categoría8\n",
              "104    Categoría8\n",
              "105    Categoría8\n",
              "106    Categoría4\n",
              "107    Categoría2\n",
              "108    Categoría2\n",
              "109    Categoría8\n",
              "110    Categoría3\n",
              "111    Categoría3\n",
              "112    Categoría8\n",
              "113    Categoría8\n",
              "114    Categoría8\n",
              "115    Categoría8\n",
              "116    Categoría8\n",
              "117    Categoría8\n",
              "118    Categoría8\n",
              "119    Categoría8\n",
              "120    Categoría8\n",
              "121    Categoría8\n",
              "122    Categoría8\n",
              "123    Categoría3\n",
              "124    Categoría8\n",
              "125    Categoría8\n",
              "126    Categoría8\n",
              "127    Categoría8\n",
              "128    Categoría8\n",
              "129    Categoría8\n",
              "130    Categoría8\n",
              "131    Categoría8\n",
              "132    Categoría5\n",
              "133    Categoría5\n",
              "134    Categoría8\n",
              "135    Categoría8\n",
              "136    Categoría8\n",
              "137    Categoría8\n",
              "138    Categoría8\n",
              "139    Categoría3\n",
              "140    Categoría3\n",
              "141    Categoría3\n",
              "142    Categoría7\n",
              "143    Categoría7\n",
              "144    Categoría7\n",
              "145    Categoría7\n",
              "146    Categoría7\n",
              "147    Categoría7\n",
              "148    Categoría7\n",
              "149    Categoría7\n",
              "150    Categoría6\n",
              "151    Categoría1\n",
              "152    Categoría1\n",
              "153    Categoría3\n",
              "154    Categoría3\n",
              "155    Categoría3\n",
              "156    Categoría3\n",
              "157    Categoría3\n",
              "158    Categoría3\n",
              "159    Categoría7\n",
              "160    Categoría5\n",
              "161    Categoría3\n",
              "162    Categoría4\n",
              "163    Categoría5\n",
              "164    Categoría5\n",
              "165    Categoría5\n",
              "166    Categoría5\n",
              "167    Categoría5\n",
              "168    Categoría5\n",
              "169    Categoría5\n",
              "170    Categoría5\n",
              "Name: _latitude, dtype: category\n",
              "Categories (8, object): ['Categoría1' < 'Categoría2' < 'Categoría3' < 'Categoría4' < 'Categoría5' < 'Categoría6' < 'Categoría7' < 'Categoría8']"
            ]
          },
          "execution_count": 25,
          "metadata": {},
          "output_type": "execute_result"
        }
      ],
      "source": [
        "#Finalmente creamos las categorías en la columna numérica\n",
        "Micro_Retailer['_latitude']=pd.cut(x= Micro_Retailer['_latitude'], bins=intervalos, labels= categorias)\n",
        "Micro_Retailer['_latitude']"
      ]
    }
  ],
  "metadata": {
    "colab": {
      "authorship_tag": "ABX9TyNHlbB4kN9BmzXOkXW/nCS1",
      "include_colab_link": true,
      "provenance": []
    },
    "kernelspec": {
      "display_name": "Python 3",
      "language": "python",
      "name": "python3"
    },
    "language_info": {
      "codemirror_mode": {
        "name": "ipython",
        "version": 3
      },
      "file_extension": ".py",
      "mimetype": "text/x-python",
      "name": "python",
      "nbconvert_exporter": "python",
      "pygments_lexer": "ipython3",
      "version": "3.12.4"
    }
  },
  "nbformat": 4,
  "nbformat_minor": 0
}
