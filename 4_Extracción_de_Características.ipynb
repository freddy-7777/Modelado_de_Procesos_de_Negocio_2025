{
  "cells": [
    {
      "cell_type": "markdown",
      "metadata": {
        "colab_type": "text",
        "id": "view-in-github"
      },
      "source": [
        "<a href=\"https://colab.research.google.com/github/freddy-7/TI3002C/blob/main/5_Extracci%C3%B3n_de_Caracter%C3%ADsticas.ipynb\" target=\"_parent\"><img src=\"https://colab.research.google.com/assets/colab-badge.svg\" alt=\"Open In Colab\"/></a>"
      ]
    },
    {
      "cell_type": "code",
      "execution_count": 1,
      "metadata": {
        "id": "KBvqPLFySzaI"
      },
      "outputs": [],
      "source": [
        "#Importamos las librerias pandas, numpy y matplotlib respectivamente\n",
        "import pandas as pd\n",
        "import numpy as np\n",
        "import matplotlib.pyplot as plt"
      ]
    },
    {
      "cell_type": "code",
      "execution_count": null,
      "metadata": {
        "id": "EbINkdpcS03f"
      },
      "outputs": [],
      "source": [
        "#Cargar archivo csv desde equipo\n",
        "from google.colab import files\n",
        "files.upload()"
      ]
    },
    {
      "cell_type": "code",
      "execution_count": null,
      "metadata": {},
      "outputs": [],
      "source": [
        "%pip install openpyxl"
      ]
    },
    {
      "cell_type": "code",
      "execution_count": 30,
      "metadata": {
        "id": "jXyYdUiSTJAe"
      },
      "outputs": [],
      "source": [
        "#Carga desde un archivo .xlsx sin indice\n",
        "Micro_Retailer= pd.read_excel('microretailer_mit_lift_lab.xlsx') "
      ]
    },
    {
      "cell_type": "code",
      "execution_count": 4,
      "metadata": {
        "colab": {
          "base_uri": "https://localhost:8080/"
        },
        "id": "pqHhJArjTVP3",
        "outputId": "a7ee30c0-12f6-4a9f-8b58-c29e433154dc"
      },
      "outputs": [
        {
          "name": "stdout",
          "output_type": "stream",
          "text": [
            "<class 'pandas.core.frame.DataFrame'>\n",
            "RangeIndex: 171 entries, 0 to 170\n",
            "Columns: 106 entries, _record_id to 235_email\n",
            "dtypes: float64(23), int64(2), object(81)\n",
            "memory usage: 141.7+ KB\n"
          ]
        }
      ],
      "source": [
        "#Verificamos información del DataFrame\n",
        "Micro_Retailer.info()"
      ]
    },
    {
      "cell_type": "code",
      "execution_count": 3,
      "metadata": {
        "colab": {
          "base_uri": "https://localhost:8080/",
          "height": 525
        },
        "id": "vyjGnKI4Tqvl",
        "outputId": "d7c23770-df23-4570-d9cb-6440bfd985ec"
      },
      "outputs": [
        {
          "data": {
            "text/html": [
              "<div>\n",
              "<style scoped>\n",
              "    .dataframe tbody tr th:only-of-type {\n",
              "        vertical-align: middle;\n",
              "    }\n",
              "\n",
              "    .dataframe tbody tr th {\n",
              "        vertical-align: top;\n",
              "    }\n",
              "\n",
              "    .dataframe thead th {\n",
              "        text-align: right;\n",
              "    }\n",
              "</style>\n",
              "<table border=\"1\" class=\"dataframe\">\n",
              "  <thead>\n",
              "    <tr style=\"text-align: right;\">\n",
              "      <th></th>\n",
              "      <th>_record_id</th>\n",
              "      <th>_title</th>\n",
              "      <th>_server_updated_at</th>\n",
              "      <th>_updated_by</th>\n",
              "      <th>_geometry</th>\n",
              "      <th>_latitude</th>\n",
              "      <th>_longitude</th>\n",
              "      <th>228_store_name</th>\n",
              "      <th>229_store_picture</th>\n",
              "      <th>232_type_of_store</th>\n",
              "      <th>...</th>\n",
              "      <th>261_technology_organization</th>\n",
              "      <th>262_technology_serve_customers</th>\n",
              "      <th>263_technology_secure_sales</th>\n",
              "      <th>264_technology_budget</th>\n",
              "      <th>267_technology_investment_customer_preferences</th>\n",
              "      <th>234_willingness_participate_workshop</th>\n",
              "      <th>318_shopkeeper_name</th>\n",
              "      <th>319_shopkeepers_last_name</th>\n",
              "      <th>236_whatsapp</th>\n",
              "      <th>235_email</th>\n",
              "    </tr>\n",
              "  </thead>\n",
              "  <tbody>\n",
              "    <tr>\n",
              "      <th>0</th>\n",
              "      <td>dff2998e-af74-4de6-8efd-488aca24e67b</td>\n",
              "      <td>November 12, 2022</td>\n",
              "      <td>2022-11-12 22:15:10 UTC</td>\n",
              "      <td>Salomon Abdala Perez</td>\n",
              "      <td>SRID=4326;POINT(-98.233822273 19.0535362706)</td>\n",
              "      <td>19.053536</td>\n",
              "      <td>-98.233822</td>\n",
              "      <td>Eugene’s Compostura</td>\n",
              "      <td>1 Photo</td>\n",
              "      <td>Tailor</td>\n",
              "      <td>...</td>\n",
              "      <td>NaN</td>\n",
              "      <td>NaN</td>\n",
              "      <td>NaN</td>\n",
              "      <td>NaN</td>\n",
              "      <td>NaN</td>\n",
              "      <td>no</td>\n",
              "      <td>NaN</td>\n",
              "      <td>NaN</td>\n",
              "      <td>NaN</td>\n",
              "      <td>NaN</td>\n",
              "    </tr>\n",
              "    <tr>\n",
              "      <th>1</th>\n",
              "      <td>c596412f-4fc2-4983-acba-d9565859e42f</td>\n",
              "      <td>November 12, 2022</td>\n",
              "      <td>2022-11-12 22:15:09 UTC</td>\n",
              "      <td>Salomon Abdala Perez</td>\n",
              "      <td>SRID=4326;POINT(-98.2341421351 19.0535610353)</td>\n",
              "      <td>19.053561</td>\n",
              "      <td>-98.234142</td>\n",
              "      <td>Frutas y verduras Angy</td>\n",
              "      <td>1 Photo</td>\n",
              "      <td>Grocery store (aka. nanostore)</td>\n",
              "      <td>...</td>\n",
              "      <td>NaN</td>\n",
              "      <td>NaN</td>\n",
              "      <td>NaN</td>\n",
              "      <td>NaN</td>\n",
              "      <td>NaN</td>\n",
              "      <td>no</td>\n",
              "      <td>NaN</td>\n",
              "      <td>NaN</td>\n",
              "      <td>NaN</td>\n",
              "      <td>NaN</td>\n",
              "    </tr>\n",
              "    <tr>\n",
              "      <th>2</th>\n",
              "      <td>5bb632b3-41b5-4fb6-a817-b564e8b45a48</td>\n",
              "      <td>November 12, 2022</td>\n",
              "      <td>2022-11-12 22:15:09 UTC</td>\n",
              "      <td>Salomon Abdala Perez</td>\n",
              "      <td>SRID=4326;POINT(-98.232299887 19.058654656)</td>\n",
              "      <td>19.058655</td>\n",
              "      <td>-98.232300</td>\n",
              "      <td>Libélula</td>\n",
              "      <td>1 Photo</td>\n",
              "      <td>Grocery store (aka. nanostore)</td>\n",
              "      <td>...</td>\n",
              "      <td>NaN</td>\n",
              "      <td>NaN</td>\n",
              "      <td>NaN</td>\n",
              "      <td>NaN</td>\n",
              "      <td>NaN</td>\n",
              "      <td>no</td>\n",
              "      <td>NaN</td>\n",
              "      <td>NaN</td>\n",
              "      <td>NaN</td>\n",
              "      <td>NaN</td>\n",
              "    </tr>\n",
              "    <tr>\n",
              "      <th>3</th>\n",
              "      <td>6774a0f6-bab4-4a58-bf94-95ad0b7cb438</td>\n",
              "      <td>November 12, 2022</td>\n",
              "      <td>2022-11-12 22:15:09 UTC</td>\n",
              "      <td>Salomon Abdala Perez</td>\n",
              "      <td>SRID=4326;POINT(-98.2331576513 19.0592929035)</td>\n",
              "      <td>19.059293</td>\n",
              "      <td>-98.233158</td>\n",
              "      <td>Quality fix</td>\n",
              "      <td>1 Photo</td>\n",
              "      <td>Grocery store (aka. nanostore)</td>\n",
              "      <td>...</td>\n",
              "      <td>NaN</td>\n",
              "      <td>NaN</td>\n",
              "      <td>NaN</td>\n",
              "      <td>NaN</td>\n",
              "      <td>NaN</td>\n",
              "      <td>no</td>\n",
              "      <td>NaN</td>\n",
              "      <td>NaN</td>\n",
              "      <td>NaN</td>\n",
              "      <td>NaN</td>\n",
              "    </tr>\n",
              "    <tr>\n",
              "      <th>4</th>\n",
              "      <td>6cc637fa-3d54-48c7-9499-6de13d0a26aa</td>\n",
              "      <td>November 12, 2022</td>\n",
              "      <td>2022-11-12 22:15:08 UTC</td>\n",
              "      <td>Salomon Abdala Perez</td>\n",
              "      <td>SRID=4326;POINT(-98.2338639604 19.0595846029)</td>\n",
              "      <td>19.059585</td>\n",
              "      <td>-98.233864</td>\n",
              "      <td>Artesanías Los Pinos</td>\n",
              "      <td>1 Photo</td>\n",
              "      <td>Grocery store (aka. nanostore)</td>\n",
              "      <td>...</td>\n",
              "      <td>NaN</td>\n",
              "      <td>NaN</td>\n",
              "      <td>NaN</td>\n",
              "      <td>NaN</td>\n",
              "      <td>NaN</td>\n",
              "      <td>no</td>\n",
              "      <td>NaN</td>\n",
              "      <td>NaN</td>\n",
              "      <td>NaN</td>\n",
              "      <td>NaN</td>\n",
              "    </tr>\n",
              "  </tbody>\n",
              "</table>\n",
              "<p>5 rows × 106 columns</p>\n",
              "</div>"
            ],
            "text/plain": [
              "                             _record_id             _title  \\\n",
              "0  dff2998e-af74-4de6-8efd-488aca24e67b  November 12, 2022   \n",
              "1  c596412f-4fc2-4983-acba-d9565859e42f  November 12, 2022   \n",
              "2  5bb632b3-41b5-4fb6-a817-b564e8b45a48  November 12, 2022   \n",
              "3  6774a0f6-bab4-4a58-bf94-95ad0b7cb438  November 12, 2022   \n",
              "4  6cc637fa-3d54-48c7-9499-6de13d0a26aa  November 12, 2022   \n",
              "\n",
              "        _server_updated_at           _updated_by  \\\n",
              "0  2022-11-12 22:15:10 UTC  Salomon Abdala Perez   \n",
              "1  2022-11-12 22:15:09 UTC  Salomon Abdala Perez   \n",
              "2  2022-11-12 22:15:09 UTC  Salomon Abdala Perez   \n",
              "3  2022-11-12 22:15:09 UTC  Salomon Abdala Perez   \n",
              "4  2022-11-12 22:15:08 UTC  Salomon Abdala Perez   \n",
              "\n",
              "                                       _geometry  _latitude  _longitude  \\\n",
              "0   SRID=4326;POINT(-98.233822273 19.0535362706)  19.053536  -98.233822   \n",
              "1  SRID=4326;POINT(-98.2341421351 19.0535610353)  19.053561  -98.234142   \n",
              "2    SRID=4326;POINT(-98.232299887 19.058654656)  19.058655  -98.232300   \n",
              "3  SRID=4326;POINT(-98.2331576513 19.0592929035)  19.059293  -98.233158   \n",
              "4  SRID=4326;POINT(-98.2338639604 19.0595846029)  19.059585  -98.233864   \n",
              "\n",
              "           228_store_name 229_store_picture               232_type_of_store  \\\n",
              "0     Eugene’s Compostura           1 Photo                          Tailor   \n",
              "1  Frutas y verduras Angy           1 Photo  Grocery store (aka. nanostore)   \n",
              "2               Libélula            1 Photo  Grocery store (aka. nanostore)   \n",
              "3             Quality fix           1 Photo  Grocery store (aka. nanostore)   \n",
              "4    Artesanías Los Pinos           1 Photo  Grocery store (aka. nanostore)   \n",
              "\n",
              "   ... 261_technology_organization 262_technology_serve_customers  \\\n",
              "0  ...                         NaN                            NaN   \n",
              "1  ...                         NaN                            NaN   \n",
              "2  ...                         NaN                            NaN   \n",
              "3  ...                         NaN                            NaN   \n",
              "4  ...                         NaN                            NaN   \n",
              "\n",
              "  263_technology_secure_sales  264_technology_budget  \\\n",
              "0                         NaN                    NaN   \n",
              "1                         NaN                    NaN   \n",
              "2                         NaN                    NaN   \n",
              "3                         NaN                    NaN   \n",
              "4                         NaN                    NaN   \n",
              "\n",
              "   267_technology_investment_customer_preferences  \\\n",
              "0                                             NaN   \n",
              "1                                             NaN   \n",
              "2                                             NaN   \n",
              "3                                             NaN   \n",
              "4                                             NaN   \n",
              "\n",
              "  234_willingness_participate_workshop  318_shopkeeper_name  \\\n",
              "0                                   no                  NaN   \n",
              "1                                   no                  NaN   \n",
              "2                                   no                  NaN   \n",
              "3                                   no                  NaN   \n",
              "4                                   no                  NaN   \n",
              "\n",
              "  319_shopkeepers_last_name 236_whatsapp 235_email  \n",
              "0                       NaN          NaN       NaN  \n",
              "1                       NaN          NaN       NaN  \n",
              "2                       NaN          NaN       NaN  \n",
              "3                       NaN          NaN       NaN  \n",
              "4                       NaN          NaN       NaN  \n",
              "\n",
              "[5 rows x 106 columns]"
            ]
          },
          "execution_count": 3,
          "metadata": {},
          "output_type": "execute_result"
        }
      ],
      "source": [
        "#Imprimo los primeros 5 registro del dataframe\n",
        "Micro_Retailer.head()"
      ]
    },
    {
      "cell_type": "code",
      "execution_count": 4,
      "metadata": {
        "id": "1Ff43X1qT4KU"
      },
      "outputs": [
        {
          "data": {
            "text/html": [
              "<div>\n",
              "<style scoped>\n",
              "    .dataframe tbody tr th:only-of-type {\n",
              "        vertical-align: middle;\n",
              "    }\n",
              "\n",
              "    .dataframe tbody tr th {\n",
              "        vertical-align: top;\n",
              "    }\n",
              "\n",
              "    .dataframe thead th {\n",
              "        text-align: right;\n",
              "    }\n",
              "</style>\n",
              "<table border=\"1\" class=\"dataframe\">\n",
              "  <thead>\n",
              "    <tr style=\"text-align: right;\">\n",
              "      <th></th>\n",
              "      <th>214_customer_relationship_tools</th>\n",
              "      <th>count</th>\n",
              "    </tr>\n",
              "  </thead>\n",
              "  <tbody>\n",
              "    <tr>\n",
              "      <th>0</th>\n",
              "      <td>Redes sociales</td>\n",
              "      <td>27</td>\n",
              "    </tr>\n",
              "    <tr>\n",
              "      <th>1</th>\n",
              "      <td>Aplicación móvil</td>\n",
              "      <td>21</td>\n",
              "    </tr>\n",
              "    <tr>\n",
              "      <th>2</th>\n",
              "      <td>Ninguna</td>\n",
              "      <td>20</td>\n",
              "    </tr>\n",
              "    <tr>\n",
              "      <th>3</th>\n",
              "      <td>Aplicación móvil,Redes sociales</td>\n",
              "      <td>13</td>\n",
              "    </tr>\n",
              "    <tr>\n",
              "      <th>4</th>\n",
              "      <td>Cuaderno</td>\n",
              "      <td>6</td>\n",
              "    </tr>\n",
              "    <tr>\n",
              "      <th>5</th>\n",
              "      <td>Teléfono</td>\n",
              "      <td>1</td>\n",
              "    </tr>\n",
              "    <tr>\n",
              "      <th>6</th>\n",
              "      <td>Cuaderno,Redes sociales</td>\n",
              "      <td>1</td>\n",
              "    </tr>\n",
              "    <tr>\n",
              "      <th>7</th>\n",
              "      <td>Aplicación móvil,De frente</td>\n",
              "      <td>1</td>\n",
              "    </tr>\n",
              "    <tr>\n",
              "      <th>8</th>\n",
              "      <td>Físico</td>\n",
              "      <td>1</td>\n",
              "    </tr>\n",
              "    <tr>\n",
              "      <th>9</th>\n",
              "      <td>Aplicación móvil,Ninguna</td>\n",
              "      <td>1</td>\n",
              "    </tr>\n",
              "    <tr>\n",
              "      <th>10</th>\n",
              "      <td>publicidades</td>\n",
              "      <td>1</td>\n",
              "    </tr>\n",
              "    <tr>\n",
              "      <th>11</th>\n",
              "      <td>Publicidad</td>\n",
              "      <td>1</td>\n",
              "    </tr>\n",
              "    <tr>\n",
              "      <th>12</th>\n",
              "      <td>Teléfono celular</td>\n",
              "      <td>1</td>\n",
              "    </tr>\n",
              "  </tbody>\n",
              "</table>\n",
              "</div>"
            ],
            "text/plain": [
              "    214_customer_relationship_tools  count\n",
              "0                    Redes sociales     27\n",
              "1                  Aplicación móvil     21\n",
              "2                           Ninguna     20\n",
              "3   Aplicación móvil,Redes sociales     13\n",
              "4                          Cuaderno      6\n",
              "5                          Teléfono      1\n",
              "6           Cuaderno,Redes sociales      1\n",
              "7        Aplicación móvil,De frente      1\n",
              "8                           Físico       1\n",
              "9          Aplicación móvil,Ninguna      1\n",
              "10                    publicidades       1\n",
              "11                       Publicidad      1\n",
              "12                Teléfono celular       1"
            ]
          },
          "execution_count": 4,
          "metadata": {},
          "output_type": "execute_result"
        }
      ],
      "source": [
        "#Obtengo un análisis univariado de las variables categóricas\n",
        "Tabla_freq = Micro_Retailer['214_customer_relationship_tools'].value_counts().reset_index()\n",
        "Tabla_freq"
      ]
    },
    {
      "cell_type": "code",
      "execution_count": 5,
      "metadata": {
        "colab": {
          "base_uri": "https://localhost:8080/",
          "height": 206
        },
        "id": "HBrncXHSXKJZ",
        "outputId": "c9459ea8-f0e7-44b0-85bc-d60a424485d5"
      },
      "outputs": [
        {
          "data": {
            "text/html": [
              "<div>\n",
              "<style scoped>\n",
              "    .dataframe tbody tr th:only-of-type {\n",
              "        vertical-align: middle;\n",
              "    }\n",
              "\n",
              "    .dataframe tbody tr th {\n",
              "        vertical-align: top;\n",
              "    }\n",
              "\n",
              "    .dataframe thead th {\n",
              "        text-align: right;\n",
              "    }\n",
              "</style>\n",
              "<table border=\"1\" class=\"dataframe\">\n",
              "  <thead>\n",
              "    <tr style=\"text-align: right;\">\n",
              "      <th></th>\n",
              "      <th>214_customer_relationship_tools</th>\n",
              "      <th>count</th>\n",
              "    </tr>\n",
              "  </thead>\n",
              "  <tbody>\n",
              "    <tr>\n",
              "      <th>0</th>\n",
              "      <td>Redes sociales</td>\n",
              "      <td>27</td>\n",
              "    </tr>\n",
              "    <tr>\n",
              "      <th>1</th>\n",
              "      <td>Aplicación móvil</td>\n",
              "      <td>21</td>\n",
              "    </tr>\n",
              "    <tr>\n",
              "      <th>2</th>\n",
              "      <td>Ninguna</td>\n",
              "      <td>20</td>\n",
              "    </tr>\n",
              "    <tr>\n",
              "      <th>3</th>\n",
              "      <td>Aplicación móvil,Redes sociales</td>\n",
              "      <td>13</td>\n",
              "    </tr>\n",
              "    <tr>\n",
              "      <th>4</th>\n",
              "      <td>Cuaderno</td>\n",
              "      <td>6</td>\n",
              "    </tr>\n",
              "  </tbody>\n",
              "</table>\n",
              "</div>"
            ],
            "text/plain": [
              "   214_customer_relationship_tools  count\n",
              "0                   Redes sociales     27\n",
              "1                 Aplicación móvil     21\n",
              "2                          Ninguna     20\n",
              "3  Aplicación móvil,Redes sociales     13\n",
              "4                         Cuaderno      6"
            ]
          },
          "execution_count": 5,
          "metadata": {},
          "output_type": "execute_result"
        }
      ],
      "source": [
        "#Obtengo un filtro de los valores más reelevantes de la variable categórica seleccionada\n",
        "Filtro= Tabla_freq[Tabla_freq['count']>1]\n",
        "Filtro"
      ]
    },
    {
      "cell_type": "code",
      "execution_count": 6,
      "metadata": {
        "colab": {
          "base_uri": "https://localhost:8080/",
          "height": 237
        },
        "id": "aK1m_EA9XP3Y",
        "outputId": "bb1ba9e6-0532-4c3a-a11d-aa36b164c1cb"
      },
      "outputs": [
        {
          "data": {
            "text/html": [
              "<div>\n",
              "<style scoped>\n",
              "    .dataframe tbody tr th:only-of-type {\n",
              "        vertical-align: middle;\n",
              "    }\n",
              "\n",
              "    .dataframe tbody tr th {\n",
              "        vertical-align: top;\n",
              "    }\n",
              "\n",
              "    .dataframe thead th {\n",
              "        text-align: right;\n",
              "    }\n",
              "</style>\n",
              "<table border=\"1\" class=\"dataframe\">\n",
              "  <thead>\n",
              "    <tr style=\"text-align: right;\">\n",
              "      <th></th>\n",
              "      <th>count</th>\n",
              "    </tr>\n",
              "    <tr>\n",
              "      <th>214_customer_relationship_tools</th>\n",
              "      <th></th>\n",
              "    </tr>\n",
              "  </thead>\n",
              "  <tbody>\n",
              "    <tr>\n",
              "      <th>Redes sociales</th>\n",
              "      <td>27</td>\n",
              "    </tr>\n",
              "    <tr>\n",
              "      <th>Aplicación móvil</th>\n",
              "      <td>21</td>\n",
              "    </tr>\n",
              "    <tr>\n",
              "      <th>Ninguna</th>\n",
              "      <td>20</td>\n",
              "    </tr>\n",
              "    <tr>\n",
              "      <th>Aplicación móvil,Redes sociales</th>\n",
              "      <td>13</td>\n",
              "    </tr>\n",
              "    <tr>\n",
              "      <th>Cuaderno</th>\n",
              "      <td>6</td>\n",
              "    </tr>\n",
              "  </tbody>\n",
              "</table>\n",
              "</div>"
            ],
            "text/plain": [
              "                                 count\n",
              "214_customer_relationship_tools       \n",
              "Redes sociales                      27\n",
              "Aplicación móvil                    21\n",
              "Ninguna                             20\n",
              "Aplicación móvil,Redes sociales     13\n",
              "Cuaderno                             6"
            ]
          },
          "execution_count": 6,
          "metadata": {},
          "output_type": "execute_result"
        }
      ],
      "source": [
        "#Ajusto el indice de mi dataframe\n",
        "Filtro_index= Filtro.set_index('214_customer_relationship_tools')\n",
        "Filtro_index"
      ]
    },
    {
      "cell_type": "code",
      "execution_count": 7,
      "metadata": {
        "colab": {
          "base_uri": "https://localhost:8080/",
          "height": 633
        },
        "id": "glFrKFfxXWeg",
        "outputId": "21e6c6f2-8c35-42ac-8915-ffe0559ca107"
      },
      "outputs": [
        {
          "data": {
            "text/plain": [
              "Text(0, 0.5, 'Frecuencia')"
            ]
          },
          "execution_count": 7,
          "metadata": {},
          "output_type": "execute_result"
        },
        {
          "data": {
            "image/png": "[encoded data removed]",
            "text/plain": [
              "<Figure size 1000x400 with 1 Axes>"
            ]
          },
          "metadata": {},
          "output_type": "display_data"
        }
      ],
      "source": [
        "#Realizamos grafico de barras del dataframe filtrado\n",
        "Filtro_index.plot(kind = 'bar', width=0.8, figsize=(10,4), color= \"red\")\n",
        "plt.title('Herramientas de relación con los clientes')\n",
        "plt.xlabel('Tipo de Herramienta')\n",
        "plt.ylabel('Frecuencia')"
      ]
    },
    {
      "cell_type": "code",
      "execution_count": 8,
      "metadata": {
        "colab": {
          "base_uri": "https://localhost:8080/",
          "height": 405
        },
        "id": "WkpKLeOgXhwU",
        "outputId": "685e024b-acc2-4603-b6fd-5b350b361e08"
      },
      "outputs": [
        {
          "data": {
            "text/plain": [
              "<Axes: xlabel='214_customer_relationship_tools'>"
            ]
          },
          "execution_count": 8,
          "metadata": {},
          "output_type": "execute_result"
        },
        {
          "data": {
            "image/png": "[encoded data removed]",
            "text/plain": [
              "<Figure size 1000x400 with 1 Axes>"
            ]
          },
          "metadata": {},
          "output_type": "display_data"
        }
      ],
      "source": [
        "#Realizamos grafico de área del dataframe filtrado\n",
        "Filtro_index.plot(kind='area', figsize=(10,4),alpha = 1)"
      ]
    },
    {
      "cell_type": "code",
      "execution_count": 9,
      "metadata": {
        "colab": {
          "base_uri": "https://localhost:8080/",
          "height": 439
        },
        "id": "bcs_yH_TXmqo",
        "outputId": "44c5c3e5-9830-424f-ad58-2903d4854bdc"
      },
      "outputs": [
        {
          "data": {
            "text/plain": [
              "<Axes: ylabel='count'>"
            ]
          },
          "execution_count": 9,
          "metadata": {},
          "output_type": "execute_result"
        },
        {
          "data": {
            "image/png": "[encoded data removed]",
            "text/plain": [
              "<Figure size 1000x500 with 1 Axes>"
            ]
          },
          "metadata": {},
          "output_type": "display_data"
        }
      ],
      "source": [
        "#Realizamos grafico de pastel del dataframe filtrado\n",
        "Filtro_index[\"count\"].plot(kind='pie', figsize=(10,5), shadow=True, autopct=\"%0.1f %%\")"
      ]
    },
    {
      "cell_type": "markdown",
      "metadata": {},
      "source": [
        "**Determinación de Clases para datos agrupados**\n"
      ]
    },
    {
      "cell_type": "code",
      "execution_count": 10,
      "metadata": {},
      "outputs": [],
      "source": [
        "# Ajustar maximo de filas\n",
        "pd.options.display.max_rows = None"
      ]
    },
    {
      "cell_type": "code",
      "execution_count": 11,
      "metadata": {},
      "outputs": [
        {
          "data": {
            "text/plain": [
              "_record_id                                                      0\n",
              "_title                                                          0\n",
              "_server_updated_at                                              0\n",
              "_updated_by                                                     0\n",
              "_geometry                                                       0\n",
              "_latitude                                                       0\n",
              "_longitude                                                      0\n",
              "228_store_name                                                  0\n",
              "229_store_picture                                               0\n",
              "232_type_of_store                                               0\n",
              "108_does_the_micro_retailer_has_a_barred_window_                0\n",
              "99_does_the_micro_retailer_exhibits_products_outside_           0\n",
              "102_does_the_micro_retailer_sells_fresh_products_               0\n",
              "97_number_of_customers_in_store                                 0\n",
              "268_number_fridges                                              3\n",
              "184_store_devices                                               2\n",
              "104_how_many_shelves_does_the_micro_retailer_have               0\n",
              "pictures_of_shelves_if_possible                               152\n",
              "hola_somos_estudiantes_del_tec_de_monterrey_estamos_realiz      0\n",
              "le_comento_que_toda_esta_informacin_es_confidencial             0\n",
              "233_date_establishment                                         59\n",
              "2_current_permanent_employees                                  60\n",
              "4_number_permanent_employees_last_year                         76\n",
              "5_change_store_space_last_year                                 72\n",
              "6_change_employees_average_salary_last_year                    86\n",
              "20_reviews_finances_monthly                                    63\n",
              "49_inventory_records                                           61\n",
              "18_sales_records                                               61\n",
              "155_sales_registers_used_for                                  165\n",
              "103_number_own_fridges                                        144\n",
              "19_tax_id                                                      71\n",
              "145_number_direct_competitors                                  68\n",
              "310_burnout                                                    64\n",
              "24_burnout                                                    133\n",
              "186_internet_connection                                        63\n",
              "210_sales_channels                                             89\n",
              "189_payment_methods                                            64\n",
              "28_prefered_payment_method                                    169\n",
              "31_different_prices_payment_method                            164\n",
              "269_cash_discount                                             169\n",
              "270_card_extra_charge                                         169\n",
              "271_card_fee                                                  171\n",
              "272_card_days_receive_money                                   127\n",
              "273_platform_extra_charge                                     171\n",
              "274_platform_fee                                              171\n",
              "275_platform_days_receive_money                               171\n",
              "30_payment_methods_large_purchases                            170\n",
              "214_customer_relationship_tools                                76\n",
              "33_credit_to_customers                                         64\n",
              "276_expected_days_informal_credit                             147\n",
              "35_interest_rate                                              150\n",
              "36_credit_default_rate                                        157\n",
              "38_average_margin_profits                                     105\n",
              "193_sales_planning_tools                                       89\n",
              "227_agreement_ecommerce_platforms                              73\n",
              "60_services                                                    94\n",
              "315_frequency_topups                                          161\n",
              "316_frequency_utility_bills                                   169\n",
              "317_home_deliveries                                           154\n",
              "62_frequency_only_services                                    147\n",
              "78_number_home_deliveries_week                                169\n",
              "77_delivery_timeslots                                         169\n",
              "79_delivery_vehicle                                           169\n",
              "64_comission_services                                         148\n",
              "66_percentaje_services_income                                 149\n",
              "69_why_not_services                                           130\n",
              "311_topups                                                    114\n",
              "312_payment_of_utilities                                      105\n",
              "313_home_deliveries                                           113\n",
              "314_reception_delivery_packages                               103\n",
              "42_willingness_share_inventory_data_suppliers                  91\n",
              "44_willingness_inventory_management_suppliers                  92\n",
              "45_willingness_reorder_suppliers                               94\n",
              "46_willingness_reorder_suppliers_variety                       97\n",
              "47_willingness_reorder_suppliers_lower_prices                 102\n",
              "43_willingness_share_sales_data_suppliers                     101\n",
              "58_willingness_share_sales_data_mse                           103\n",
              "59_willingness_share_sales_data_mse_better_prices             103\n",
              "172_supplier_frequency                                         99\n",
              "185_place_orders_suppliers                                    100\n",
              "53_special_conditions_suppliers                               124\n",
              "278_credit_interest                                           133\n",
              "192_procurement_planning_tools                                103\n",
              "277_payment_method_suppliers                                  103\n",
              "56_procurement_changes_pandemic                                90\n",
              "279_changes_procurement_pandemic                              148\n",
              "157_frequency_organize_shelves                                 75\n",
              "158_charact_organize_products_on_shelves                       79\n",
              "161_actions_stockouts                                          79\n",
              "162_inventory_extra_space                                      82\n",
              "163_number_high_perishable_products                            93\n",
              "249_technology_training                                        98\n",
              "250_technology_investment_operations                           97\n",
              "251_technology_investment_customers                            98\n",
              "254_technology_roadmap                                        100\n",
              "260_technology_scalable                                       102\n",
              "261_technology_organization                                   102\n",
              "262_technology_serve_customers                                100\n",
              "263_technology_secure_sales                                   101\n",
              "264_technology_budget                                         101\n",
              "267_technology_investment_customer_preferences                101\n",
              "234_willingness_participate_workshop                           73\n",
              "318_shopkeeper_name                                           123\n",
              "319_shopkeepers_last_name                                     125\n",
              "236_whatsapp                                                  129\n",
              "235_email                                                     142\n",
              "dtype: int64"
            ]
          },
          "execution_count": 11,
          "metadata": {},
          "output_type": "execute_result"
        }
      ],
      "source": [
        "#Corroboramos valores nulos\n",
        "valores_nulos=Micro_Retailer.isnull().sum()\n",
        "valores_nulos"
      ]
    },
    {
      "cell_type": "code",
      "execution_count": 12,
      "metadata": {},
      "outputs": [
        {
          "name": "stdout",
          "output_type": "stream",
          "text": [
            "<class 'pandas.core.series.Series'>\n",
            "RangeIndex: 171 entries, 0 to 170\n",
            "Series name: _latitude\n",
            "Non-Null Count  Dtype  \n",
            "--------------  -----  \n",
            "171 non-null    float64\n",
            "dtypes: float64(1)\n",
            "memory usage: 1.5 KB\n"
          ]
        }
      ],
      "source": [
        "#Calculamos el numero total de la población \"n\"\n",
        "Micro_Retailer['_latitude']. info()\n",
        "n=171"
      ]
    },
    {
      "cell_type": "code",
      "execution_count": 13,
      "metadata": {},
      "outputs": [
        {
          "data": {
            "text/plain": [
              "[np.float64(18.9993095), np.float64(19.0752733)]"
            ]
          },
          "execution_count": 13,
          "metadata": {},
          "output_type": "execute_result"
        }
      ],
      "source": [
        "#Obtenemos el limite superior y el límite inferior de la columna objetivo\n",
        "Max=Micro_Retailer['_latitude'].max()\n",
        "Min=Micro_Retailer['_latitude'].min()\n",
        "Limites= [Min, Max]\n",
        "Limites"
      ]
    },
    {
      "cell_type": "code",
      "execution_count": 14,
      "metadata": {},
      "outputs": [
        {
          "data": {
            "text/plain": [
              "np.float64(0.07596380000000025)"
            ]
          },
          "execution_count": 14,
          "metadata": {},
          "output_type": "execute_result"
        }
      ],
      "source": [
        "#Calculamos el rango R\n",
        "R=Max-Min\n",
        "R"
      ]
    },
    {
      "cell_type": "code",
      "execution_count": 15,
      "metadata": {},
      "outputs": [
        {
          "data": {
            "text/plain": [
              "np.float64(8.41354708650195)"
            ]
          },
          "execution_count": 15,
          "metadata": {},
          "output_type": "execute_result"
        }
      ],
      "source": [
        "#Calculamos el número de Intervalos de Clase \"ni\", aplicando la regla de Sturges\n",
        "ni= 1+3.32*np.log10(n)\n",
        "ni"
      ]
    },
    {
      "cell_type": "code",
      "execution_count": 16,
      "metadata": {},
      "outputs": [
        {
          "data": {
            "text/plain": [
              "np.float64(0.009028748424296662)"
            ]
          },
          "execution_count": 16,
          "metadata": {},
          "output_type": "execute_result"
        }
      ],
      "source": [
        "#Calculamos el Ancho del Intervalo \"i\"\n",
        "i=R/ni\n",
        "i"
      ]
    },
    {
      "cell_type": "markdown",
      "metadata": {},
      "source": [
        "**Creación de Categorias a partir de clases**"
      ]
    },
    {
      "cell_type": "code",
      "execution_count": 31,
      "metadata": {},
      "outputs": [
        {
          "data": {
            "text/plain": [
              "array([18.98 , 18.992, 19.004, 19.016, 19.028, 19.04 , 19.052, 19.064,\n",
              "       19.076])"
            ]
          },
          "execution_count": 31,
          "metadata": {},
          "output_type": "execute_result"
        }
      ],
      "source": [
        "#Categorización de variables\n",
        "#Declaramos 8 intervalos \n",
        "#Ajustamos los limites para que todos los valores sean incluidos en los intervalos\n",
        "#Ampliamos los límites en una unidad sobre los decimales menos significativos\n",
        "#con la intención de incluir los valores que caigan justo en los límites\n",
        "intervalos=np.linspace(18.98, 19.076, 9)\n",
        "intervalos"
      ]
    },
    {
      "cell_type": "code",
      "execution_count": 32,
      "metadata": {},
      "outputs": [],
      "source": [
        "#Creamos las categorías \n",
        "categorias= [\"Categoría1 (18.98-18.992)\", \"Categoría2 (18.992-19.004)\",\"Categoría3\", \"Categoría4\",\n",
        "             \"Categoría5\", \"Categoría6\",\"Categoría7\", \"Categoría8\"]"
      ]
    },
    {
      "cell_type": "code",
      "execution_count": 33,
      "metadata": {},
      "outputs": [
        {
          "data": {
            "text/plain": [
              "0                      Categoría7\n",
              "1                      Categoría7\n",
              "2                      Categoría7\n",
              "3                      Categoría7\n",
              "4                      Categoría7\n",
              "5                      Categoría7\n",
              "6                      Categoría7\n",
              "7                      Categoría7\n",
              "8                      Categoría7\n",
              "9                      Categoría7\n",
              "10                     Categoría4\n",
              "11                     Categoría4\n",
              "12                     Categoría4\n",
              "13                     Categoría4\n",
              "14                     Categoría4\n",
              "15                     Categoría4\n",
              "16                     Categoría4\n",
              "17                     Categoría4\n",
              "18                     Categoría4\n",
              "19                     Categoría4\n",
              "20                     Categoría6\n",
              "21                     Categoría8\n",
              "22                     Categoría8\n",
              "23                     Categoría7\n",
              "24                     Categoría7\n",
              "25                     Categoría7\n",
              "26                     Categoría7\n",
              "27                     Categoría7\n",
              "28                     Categoría7\n",
              "29                     Categoría7\n",
              "30                     Categoría7\n",
              "31                     Categoría7\n",
              "32                     Categoría8\n",
              "33                     Categoría8\n",
              "34                     Categoría5\n",
              "35                     Categoría4\n",
              "36                     Categoría4\n",
              "37                     Categoría4\n",
              "38                     Categoría3\n",
              "39                     Categoría4\n",
              "40                     Categoría4\n",
              "41                     Categoría4\n",
              "42                     Categoría4\n",
              "43                     Categoría4\n",
              "44                     Categoría6\n",
              "45                     Categoría6\n",
              "46                     Categoría4\n",
              "47                     Categoría3\n",
              "48                     Categoría3\n",
              "49                     Categoría3\n",
              "50                     Categoría3\n",
              "51                     Categoría5\n",
              "52                     Categoría6\n",
              "53                     Categoría6\n",
              "54                     Categoría6\n",
              "55                     Categoría6\n",
              "56                     Categoría6\n",
              "57                     Categoría6\n",
              "58                     Categoría6\n",
              "59                     Categoría6\n",
              "60                     Categoría6\n",
              "61                     Categoría6\n",
              "62                     Categoría6\n",
              "63                     Categoría6\n",
              "64                     Categoría6\n",
              "65                     Categoría6\n",
              "66                     Categoría6\n",
              "67                     Categoría6\n",
              "68                     Categoría6\n",
              "69                     Categoría5\n",
              "70                     Categoría5\n",
              "71                     Categoría4\n",
              "72                     Categoría4\n",
              "73                     Categoría4\n",
              "74                     Categoría4\n",
              "75                     Categoría4\n",
              "76                     Categoría4\n",
              "77                     Categoría4\n",
              "78                     Categoría4\n",
              "79                     Categoría4\n",
              "80                     Categoría4\n",
              "81                     Categoría4\n",
              "82                     Categoría4\n",
              "83                     Categoría8\n",
              "84                     Categoría8\n",
              "85                     Categoría8\n",
              "86                     Categoría8\n",
              "87                     Categoría8\n",
              "88                     Categoría8\n",
              "89                     Categoría8\n",
              "90                     Categoría5\n",
              "91                     Categoría8\n",
              "92                     Categoría5\n",
              "93                     Categoría8\n",
              "94                     Categoría4\n",
              "95                     Categoría8\n",
              "96                     Categoría8\n",
              "97                     Categoría8\n",
              "98                     Categoría8\n",
              "99                     Categoría8\n",
              "100                    Categoría5\n",
              "101                    Categoría5\n",
              "102                    Categoría8\n",
              "103                    Categoría8\n",
              "104                    Categoría8\n",
              "105                    Categoría8\n",
              "106                    Categoría5\n",
              "107                    Categoría3\n",
              "108                    Categoría3\n",
              "109                    Categoría8\n",
              "110                    Categoría4\n",
              "111                    Categoría4\n",
              "112                    Categoría8\n",
              "113                    Categoría8\n",
              "114                    Categoría8\n",
              "115                    Categoría8\n",
              "116                    Categoría8\n",
              "117                    Categoría8\n",
              "118                    Categoría8\n",
              "119                    Categoría8\n",
              "120                    Categoría8\n",
              "121                    Categoría8\n",
              "122                    Categoría8\n",
              "123                    Categoría4\n",
              "124                    Categoría8\n",
              "125                    Categoría8\n",
              "126                    Categoría8\n",
              "127                    Categoría8\n",
              "128                    Categoría8\n",
              "129                    Categoría8\n",
              "130                    Categoría8\n",
              "131                    Categoría8\n",
              "132                    Categoría6\n",
              "133                    Categoría6\n",
              "134                    Categoría8\n",
              "135                    Categoría8\n",
              "136                    Categoría8\n",
              "137                    Categoría8\n",
              "138                    Categoría8\n",
              "139                    Categoría4\n",
              "140                    Categoría4\n",
              "141                    Categoría4\n",
              "142                    Categoría7\n",
              "143                    Categoría7\n",
              "144                    Categoría7\n",
              "145                    Categoría7\n",
              "146                    Categoría7\n",
              "147                    Categoría7\n",
              "148                    Categoría7\n",
              "149                    Categoría7\n",
              "150                    Categoría7\n",
              "151    Categoría2 (18.992-19.004)\n",
              "152    Categoría2 (18.992-19.004)\n",
              "153                    Categoría4\n",
              "154                    Categoría4\n",
              "155                    Categoría4\n",
              "156                    Categoría4\n",
              "157                    Categoría4\n",
              "158                    Categoría4\n",
              "159                    Categoría7\n",
              "160                    Categoría6\n",
              "161                    Categoría4\n",
              "162                    Categoría5\n",
              "163                    Categoría6\n",
              "164                    Categoría6\n",
              "165                    Categoría6\n",
              "166                    Categoría6\n",
              "167                    Categoría6\n",
              "168                    Categoría6\n",
              "169                    Categoría6\n",
              "170                    Categoría6\n",
              "Name: _latitude, dtype: category\n",
              "Categories (8, object): ['Categoría1 (18.98-18.992)' < 'Categoría2 (18.992-19.004)' < 'Categoría3' < 'Categoría4' < 'Categoría5' < 'Categoría6' < 'Categoría7' < 'Categoría8']"
            ]
          },
          "execution_count": 33,
          "metadata": {},
          "output_type": "execute_result"
        }
      ],
      "source": [
        "#Finalmente creamos las categorías en la columna numérica\n",
        "Micro_Retailer['_latitude']=pd.cut(x= Micro_Retailer['_latitude'], bins=intervalos, labels= categorias)\n",
        "Micro_Retailer['_latitude']"
      ]
    },
    {
      "cell_type": "code",
      "execution_count": 34,
      "metadata": {},
      "outputs": [
        {
          "data": {
            "text/html": [
              "<div>\n",
              "<style scoped>\n",
              "    .dataframe tbody tr th:only-of-type {\n",
              "        vertical-align: middle;\n",
              "    }\n",
              "\n",
              "    .dataframe tbody tr th {\n",
              "        vertical-align: top;\n",
              "    }\n",
              "\n",
              "    .dataframe thead th {\n",
              "        text-align: right;\n",
              "    }\n",
              "</style>\n",
              "<table border=\"1\" class=\"dataframe\">\n",
              "  <thead>\n",
              "    <tr style=\"text-align: right;\">\n",
              "      <th></th>\n",
              "      <th>_latitude</th>\n",
              "      <th>count</th>\n",
              "    </tr>\n",
              "  </thead>\n",
              "  <tbody>\n",
              "    <tr>\n",
              "      <th>0</th>\n",
              "      <td>Categoría8</td>\n",
              "      <td>47</td>\n",
              "    </tr>\n",
              "    <tr>\n",
              "      <th>1</th>\n",
              "      <td>Categoría4</td>\n",
              "      <td>45</td>\n",
              "    </tr>\n",
              "    <tr>\n",
              "      <th>2</th>\n",
              "      <td>Categoría6</td>\n",
              "      <td>31</td>\n",
              "    </tr>\n",
              "    <tr>\n",
              "      <th>3</th>\n",
              "      <td>Categoría7</td>\n",
              "      <td>29</td>\n",
              "    </tr>\n",
              "    <tr>\n",
              "      <th>4</th>\n",
              "      <td>Categoría5</td>\n",
              "      <td>10</td>\n",
              "    </tr>\n",
              "    <tr>\n",
              "      <th>5</th>\n",
              "      <td>Categoría3</td>\n",
              "      <td>7</td>\n",
              "    </tr>\n",
              "    <tr>\n",
              "      <th>6</th>\n",
              "      <td>Categoría2 (18.992-19.004)</td>\n",
              "      <td>2</td>\n",
              "    </tr>\n",
              "    <tr>\n",
              "      <th>7</th>\n",
              "      <td>Categoría1 (18.98-18.992)</td>\n",
              "      <td>0</td>\n",
              "    </tr>\n",
              "  </tbody>\n",
              "</table>\n",
              "</div>"
            ],
            "text/plain": [
              "                    _latitude  count\n",
              "0                  Categoría8     47\n",
              "1                  Categoría4     45\n",
              "2                  Categoría6     31\n",
              "3                  Categoría7     29\n",
              "4                  Categoría5     10\n",
              "5                  Categoría3      7\n",
              "6  Categoría2 (18.992-19.004)      2\n",
              "7   Categoría1 (18.98-18.992)      0"
            ]
          },
          "execution_count": 34,
          "metadata": {},
          "output_type": "execute_result"
        }
      ],
      "source": [
        "#Obtengo un análisis univariado de las variables categóricas\n",
        "Tabla_freq = Micro_Retailer['_latitude'].value_counts().reset_index()\n",
        "Tabla_freq"
      ]
    },
    {
      "cell_type": "code",
      "execution_count": 35,
      "metadata": {},
      "outputs": [
        {
          "data": {
            "text/html": [
              "<div>\n",
              "<style scoped>\n",
              "    .dataframe tbody tr th:only-of-type {\n",
              "        vertical-align: middle;\n",
              "    }\n",
              "\n",
              "    .dataframe tbody tr th {\n",
              "        vertical-align: top;\n",
              "    }\n",
              "\n",
              "    .dataframe thead th {\n",
              "        text-align: right;\n",
              "    }\n",
              "</style>\n",
              "<table border=\"1\" class=\"dataframe\">\n",
              "  <thead>\n",
              "    <tr style=\"text-align: right;\">\n",
              "      <th></th>\n",
              "      <th>_latitude</th>\n",
              "      <th>count</th>\n",
              "    </tr>\n",
              "  </thead>\n",
              "  <tbody>\n",
              "    <tr>\n",
              "      <th>0</th>\n",
              "      <td>Categoría8</td>\n",
              "      <td>47</td>\n",
              "    </tr>\n",
              "    <tr>\n",
              "      <th>1</th>\n",
              "      <td>Categoría4</td>\n",
              "      <td>45</td>\n",
              "    </tr>\n",
              "    <tr>\n",
              "      <th>2</th>\n",
              "      <td>Categoría6</td>\n",
              "      <td>31</td>\n",
              "    </tr>\n",
              "    <tr>\n",
              "      <th>3</th>\n",
              "      <td>Categoría7</td>\n",
              "      <td>29</td>\n",
              "    </tr>\n",
              "    <tr>\n",
              "      <th>4</th>\n",
              "      <td>Categoría5</td>\n",
              "      <td>10</td>\n",
              "    </tr>\n",
              "    <tr>\n",
              "      <th>5</th>\n",
              "      <td>Categoría3</td>\n",
              "      <td>7</td>\n",
              "    </tr>\n",
              "    <tr>\n",
              "      <th>6</th>\n",
              "      <td>Categoría2 (18.992-19.004)</td>\n",
              "      <td>2</td>\n",
              "    </tr>\n",
              "  </tbody>\n",
              "</table>\n",
              "</div>"
            ],
            "text/plain": [
              "                    _latitude  count\n",
              "0                  Categoría8     47\n",
              "1                  Categoría4     45\n",
              "2                  Categoría6     31\n",
              "3                  Categoría7     29\n",
              "4                  Categoría5     10\n",
              "5                  Categoría3      7\n",
              "6  Categoría2 (18.992-19.004)      2"
            ]
          },
          "execution_count": 35,
          "metadata": {},
          "output_type": "execute_result"
        }
      ],
      "source": [
        "#Obtengo un filtro de los valores más reelevantes de la variable categórica seleccionada\n",
        "Filtro= Tabla_freq[Tabla_freq['count']>0]\n",
        "Filtro"
      ]
    },
    {
      "cell_type": "code",
      "execution_count": 36,
      "metadata": {},
      "outputs": [
        {
          "data": {
            "text/html": [
              "<div>\n",
              "<style scoped>\n",
              "    .dataframe tbody tr th:only-of-type {\n",
              "        vertical-align: middle;\n",
              "    }\n",
              "\n",
              "    .dataframe tbody tr th {\n",
              "        vertical-align: top;\n",
              "    }\n",
              "\n",
              "    .dataframe thead th {\n",
              "        text-align: right;\n",
              "    }\n",
              "</style>\n",
              "<table border=\"1\" class=\"dataframe\">\n",
              "  <thead>\n",
              "    <tr style=\"text-align: right;\">\n",
              "      <th></th>\n",
              "      <th>count</th>\n",
              "    </tr>\n",
              "    <tr>\n",
              "      <th>_latitude</th>\n",
              "      <th></th>\n",
              "    </tr>\n",
              "  </thead>\n",
              "  <tbody>\n",
              "    <tr>\n",
              "      <th>Categoría8</th>\n",
              "      <td>47</td>\n",
              "    </tr>\n",
              "    <tr>\n",
              "      <th>Categoría4</th>\n",
              "      <td>45</td>\n",
              "    </tr>\n",
              "    <tr>\n",
              "      <th>Categoría6</th>\n",
              "      <td>31</td>\n",
              "    </tr>\n",
              "    <tr>\n",
              "      <th>Categoría7</th>\n",
              "      <td>29</td>\n",
              "    </tr>\n",
              "    <tr>\n",
              "      <th>Categoría5</th>\n",
              "      <td>10</td>\n",
              "    </tr>\n",
              "    <tr>\n",
              "      <th>Categoría3</th>\n",
              "      <td>7</td>\n",
              "    </tr>\n",
              "    <tr>\n",
              "      <th>Categoría2 (18.992-19.004)</th>\n",
              "      <td>2</td>\n",
              "    </tr>\n",
              "  </tbody>\n",
              "</table>\n",
              "</div>"
            ],
            "text/plain": [
              "                            count\n",
              "_latitude                        \n",
              "Categoría8                     47\n",
              "Categoría4                     45\n",
              "Categoría6                     31\n",
              "Categoría7                     29\n",
              "Categoría5                     10\n",
              "Categoría3                      7\n",
              "Categoría2 (18.992-19.004)      2"
            ]
          },
          "execution_count": 36,
          "metadata": {},
          "output_type": "execute_result"
        }
      ],
      "source": [
        "#Ajusto el indice de mi dataframe\n",
        "Filtro_index= Filtro.set_index('_latitude')\n",
        "Filtro_index"
      ]
    },
    {
      "cell_type": "code",
      "execution_count": 37,
      "metadata": {},
      "outputs": [
        {
          "data": {
            "text/plain": [
              "Text(0, 0.5, 'Frecuencia')"
            ]
          },
          "execution_count": 37,
          "metadata": {},
          "output_type": "execute_result"
        },
        {
          "data": {
            "image/png": "[encoded data removed]",
            "text/plain": [
              "<Figure size 1000x400 with 1 Axes>"
            ]
          },
          "metadata": {},
          "output_type": "display_data"
        }
      ],
      "source": [
        "#Realizamos grafico de barras del dataframe filtrado\n",
        "Filtro_index.plot(kind = 'bar', width=0.8, figsize=(10,4), color= \"red\", rot=45)\n",
        "plt.title('Categorias por latitud')\n",
        "plt.xlabel('rango de categorias')\n",
        "plt.ylabel('Frecuencia')"
      ]
    }
  ],
  "metadata": {
    "colab": {
      "authorship_tag": "ABX9TyNHlbB4kN9BmzXOkXW/nCS1",
      "include_colab_link": true,
      "provenance": []
    },
    "kernelspec": {
      "display_name": "Python 3",
      "language": "python",
      "name": "python3"
    },
    "language_info": {
      "codemirror_mode": {
        "name": "ipython",
        "version": 3
      },
      "file_extension": ".py",
      "mimetype": "text/x-python",
      "name": "python",
      "nbconvert_exporter": "python",
      "pygments_lexer": "ipython3",
      "version": "3.13.4"
    }
  },
  "nbformat": 4,
  "nbformat_minor": 0
}
